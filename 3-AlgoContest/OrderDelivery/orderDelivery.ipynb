{
 "metadata": {
  "language_info": {
   "codemirror_mode": {
    "name": "ipython",
    "version": 3
   },
   "file_extension": ".py",
   "mimetype": "text/x-python",
   "name": "python",
   "nbconvert_exporter": "python",
   "pygments_lexer": "ipython3",
   "version": "3.6.6"
  },
  "orig_nbformat": 2,
  "kernelspec": {
   "name": "python3",
   "display_name": "Python 3.6.6 64-bit",
   "metadata": {
    "interpreter": {
     "hash": "2e5c6628eef985e7fd2fa2aad22c988c5b8aa1d2648cf9c51c543a2a2637c546"
    }
   }
  }
 },
 "nbformat": 4,
 "nbformat_minor": 2,
 "cells": [
  {
   "cell_type": "code",
   "execution_count": 1,
   "metadata": {},
   "outputs": [],
   "source": [
    "class DisjointSet(object):\n",
    "    def __init__(self, size=1):\n",
    "        self.parent = [i for i in range(size)]\n",
    "    \n",
    "    def find(self, x):\n",
    "        if (self.parent[x] != x):\n",
    "            self.parent[x] = self.find(self.parent[x])\n",
    "        return self.parent[x]\n",
    "    def union(self, x, y):\n",
    "        xset = self.find(x)\n",
    "        yset = self.find(y)\n",
    "\n",
    "        if xset == yset: \n",
    "            return\n",
    "        \n",
    "        self.parent[yset] = xset\n",
    "    def list_groups(self):\n",
    "        parent_set = set(self.parent)\n",
    "        grouped_sets = {x: set([x]) for x in parent_set}\n",
    "        for count, x in enumerate(self.parent):\n",
    "            grouped_sets[x].add(count)\n",
    "        return [sorted(x) for x in grouped_sets.values()]"
   ]
  },
  {
   "cell_type": "code",
   "execution_count": 2,
   "metadata": {},
   "outputs": [
    {
     "output_type": "error",
     "ename": "SyntaxError",
     "evalue": "EOL while scanning string literal (<ipython-input-2-e17bdaba46cf>, line 48)",
     "traceback": [
      "\u001b[1;36m  File \u001b[1;32m\"<ipython-input-2-e17bdaba46cf>\"\u001b[1;36m, line \u001b[1;32m48\u001b[0m\n\u001b[1;33m    print('next_distance, next_distance)\u001b[0m\n\u001b[1;37m                                        ^\u001b[0m\n\u001b[1;31mSyntaxError\u001b[0m\u001b[1;31m:\u001b[0m EOL while scanning string literal\n"
     ]
    }
   ],
   "source": [
    "class CityGraph(object):\n",
    "    def __init__(self, size=21):\n",
    "        self.disjoint_set = DisjointSet(size)\n",
    "        self.adj_matrix = []\n",
    "        self.adj_list = []\n",
    "        self.warehouses = []\n",
    "        self.orders = []\n",
    "        for i in range(size):\n",
    "            self.adj_matrix.append([0 if s == i else -1 for s in range(size)])\n",
    "            self.adj_list.append([])\n",
    "            self.warehouses.append([0, 0])\n",
    "            self.orders.append(0)\n",
    "        self.size = size\n",
    "\n",
    "    def add_edge(self, v1, v2):\n",
    "        self.adj_matrix[v1][v2] = 1\n",
    "        self.adj_matrix[v2][v1] = 1\n",
    "        self.adj_list[v1].append(v2)\n",
    "        self.adj_list[v2].append(v1)\n",
    "        self.disjoint_set.union(v1, v2)\n",
    "\n",
    "    def add_warehouse(self, item_count, cost, place):\n",
    "        self.warehouses[place][0] = item_count\n",
    "        self.warehouses[place][1] = cost\n",
    "\n",
    "    def add_order(self, item_count, place):\n",
    "        self.orders[place] += item_count\n",
    "\n",
    "    def find_distance(self, v1, v2):\n",
    "        distance = self.adj_matrix[v1][v2]\n",
    "        if distance >= 0:\n",
    "            return distance\n",
    "\n",
    "        cur_distance = 1\n",
    "        neighbor_queue = [[], self.adj_list[v1].copy(), []]\n",
    "        visited = set(self.adj_list[v1].copy() + [v1])\n",
    "        while len(neighbor_queue[cur_distance]) > 0:\n",
    "            print('neighbor_queue', neighbor_queue)\n",
    "            cur_neighbor = neighbor_queue[cur_distance].pop(0)\n",
    "            print('cur_neighbor', cur_neighbor)\n",
    "\n",
    "            print('cur_distance', cur_distance)\n",
    "            if (cur_distance > 1):\n",
    "                self.adj_matrix[v1][cur_neighbor] = cur_distance\n",
    "                self.adj_matrix[cur_neighbor][v1] = cur_distance\n",
    "\n",
    "            next_distance = self.adj_matrix[cur_neighbor][v2]\n",
    "            print('next_distance', next_distance)\n",
    "            if next_distance >= 0:\n",
    "                distance = cur_distance + next_distance\n",
    "                self.adj_matrix[v1][v2] = distance\n",
    "                self.adj_matrix[v2][v1] = distance\n",
    "                return distance\n",
    "\n",
    "            print('before:', visited)\n",
    "            neighbor_queue[cur_distance + 1] += [n for n in self.adj_list[cur_neighbor] if n not in visited]\n",
    "            visited.update(self.adj_list[cur_neighbor])\n",
    "            print('after', visited)\n",
    "            \n",
    "            if (len(neighbor_queue[cur_distance]) == 0):\n",
    "                cur_distance += 1\n",
    "                neighbor_queue.append([])\n",
    "\n",
    "    def deliver_items(self, c_target, w_source, item_count):\n",
    "        self.warehouses[w_source][0] -= item_count\n",
    "        self.orders[c_target] -= item_count"
   ]
  },
  {
   "cell_type": "code",
   "execution_count": 3,
   "metadata": {},
   "outputs": [],
   "source": [
    "# debugging - input from file\n",
    "input_file = open(r\"sample_input.txt\",\"r\")"
   ]
  },
  {
   "cell_type": "code",
   "execution_count": 4,
   "metadata": {},
   "outputs": [],
   "source": [
    "def get_line():\n",
    "    # return [int(num) for num in input().split()] # for input from terminal\n",
    "    return [int(num) for num in input_file.readline()[:-1].split()] # for input from file"
   ]
  },
  {
   "source": [
    "Get Inputs\n",
    "----------"
   ],
   "cell_type": "markdown",
   "metadata": {}
  },
  {
   "cell_type": "code",
   "execution_count": 5,
   "metadata": {},
   "outputs": [],
   "source": [
    "N, D, E = get_line()"
   ]
  },
  {
   "cell_type": "code",
   "execution_count": 6,
   "metadata": {},
   "outputs": [],
   "source": [
    "city_graph = CityGraph(N + 1)\n",
    "for e in range(E):\n",
    "    v1, v2 = get_line()\n",
    "    city_graph.add_edge(v1, v2)"
   ]
  },
  {
   "cell_type": "code",
   "execution_count": 7,
   "metadata": {},
   "outputs": [],
   "source": [
    "for d in range(D):\n",
    "    w, c, p = get_line()\n",
    "    city_graph.add_warehouse(w, c, p)"
   ]
  },
  {
   "cell_type": "code",
   "execution_count": 8,
   "metadata": {},
   "outputs": [],
   "source": [
    "M, = get_line()"
   ]
  },
  {
   "cell_type": "code",
   "execution_count": 9,
   "metadata": {},
   "outputs": [],
   "source": [
    "for m in range(M):\n",
    "    k, g = get_line()\n",
    "    city_graph.add_order(k, g)"
   ]
  },
  {
   "cell_type": "code",
   "execution_count": 10,
   "metadata": {},
   "outputs": [],
   "source": [
    "# debugging - input from file, close file\n",
    "input_file.close()"
   ]
  },
  {
   "source": [
    "Main Algo\n",
    "--------"
   ],
   "cell_type": "markdown",
   "metadata": {}
  },
  {
   "cell_type": "code",
   "execution_count": 11,
   "metadata": {},
   "outputs": [],
   "source": [
    "# group nodes/cities into graph/s\n",
    "groups = city_graph.disjoint_set.list_groups()[1:]"
   ]
  },
  {
   "cell_type": "code",
   "execution_count": 12,
   "metadata": {},
   "outputs": [
    {
     "output_type": "execute_result",
     "data": {
      "text/plain": [
       "[[2, 3],\n",
       " [1, 3],\n",
       " [1, 2, 4, 7],\n",
       " [3, 5, 6],\n",
       " [4, 6, 7, 8],\n",
       " [5, 4],\n",
       " [5, 3, 8],\n",
       " [5, 7]]"
      ]
     },
     "metadata": {},
     "execution_count": 12
    }
   ],
   "source": [
    "city_graph.adj_list[1:]"
   ]
  },
  {
   "cell_type": "code",
   "execution_count": 13,
   "metadata": {},
   "outputs": [
    {
     "output_type": "execute_result",
     "data": {
      "text/plain": [
       "[[0, -1, -1, -1, -1, -1, -1, -1, -1],\n",
       " [-1, 0, 1, 1, -1, -1, -1, -1, -1],\n",
       " [-1, 1, 0, 1, -1, -1, -1, -1, -1],\n",
       " [-1, 1, 1, 0, 1, -1, -1, 1, -1],\n",
       " [-1, -1, -1, 1, 0, 1, 1, -1, -1],\n",
       " [-1, -1, -1, -1, 1, 0, 1, 1, 1],\n",
       " [-1, -1, -1, -1, 1, 1, 0, -1, -1],\n",
       " [-1, -1, -1, 1, -1, 1, -1, 0, 1],\n",
       " [-1, -1, -1, -1, -1, 1, -1, 1, 0]]"
      ]
     },
     "metadata": {},
     "execution_count": 13
    }
   ],
   "source": [
    "city_graph.adj_matrix"
   ]
  },
  {
   "cell_type": "code",
   "execution_count": 14,
   "metadata": {},
   "outputs": [
    {
     "output_type": "execute_result",
     "data": {
      "text/plain": [
       "[[1, 2, 3, 4, 5, 6, 7, 8]]"
      ]
     },
     "metadata": {},
     "execution_count": 14
    }
   ],
   "source": [
    "groups"
   ]
  },
  {
   "source": [
    "city_graph.find_distance(1, 4)"
   ],
   "cell_type": "code",
   "metadata": {},
   "execution_count": 15,
   "outputs": [
    {
     "output_type": "stream",
     "name": "stdout",
     "text": [
      "[[], [2, 3], []]\n2\n1\n-1\nbefore: {1, 2, 3}\nafter {1, 2, 3}\n[[], [3], []]\n3\n1\n1\n"
     ]
    },
    {
     "output_type": "execute_result",
     "data": {
      "text/plain": [
       "2"
      ]
     },
     "metadata": {},
     "execution_count": 15
    }
   ]
  },
  {
   "cell_type": "code",
   "execution_count": null,
   "metadata": {},
   "outputs": [],
   "source": []
  },
  {
   "cell_type": "code",
   "execution_count": null,
   "metadata": {},
   "outputs": [],
   "source": [
    "# update adjacency matrix with distance values for each city\n",
    "\n",
    "\n",
    "\n",
    "for group in groups:\n",
    "    "
   ]
  },
  {
   "cell_type": "code",
   "execution_count": 10,
   "metadata": {},
   "outputs": [],
   "source": [
    "cur_cost = 0"
   ]
  },
  {
   "cell_type": "code",
   "execution_count": 11,
   "metadata": {},
   "outputs": [],
   "source": [
    "pending_orders = [(city, order) for city, order in enumerate(graph.orders[1:]) if order > 1]\n",
    "    "
   ]
  },
  {
   "cell_type": "code",
   "execution_count": 12,
   "metadata": {},
   "outputs": [
    {
     "output_type": "execute_result",
     "data": {
      "text/plain": [
       "[(3, 7), (4, 7)]"
      ]
     },
     "metadata": {},
     "execution_count": 12
    }
   ],
   "source": [
    "pending_orders"
   ]
  },
  {
   "cell_type": "code",
   "execution_count": 13,
   "metadata": {},
   "outputs": [
    {
     "output_type": "execute_result",
     "data": {
      "text/plain": [
       "[[],\n",
       " [2, 3],\n",
       " [1, 3],\n",
       " [1, 2, 4, 7],\n",
       " [3, 5, 6],\n",
       " [4, 6, 7, 8],\n",
       " [5, 4],\n",
       " [5, 3, 8],\n",
       " [5, 7]]"
      ]
     },
     "metadata": {},
     "execution_count": 13
    }
   ],
   "source": [
    "graph.adj_list"
   ]
  },
  {
   "cell_type": "code",
   "execution_count": 15,
   "metadata": {},
   "outputs": [
    {
     "output_type": "execute_result",
     "data": {
      "text/plain": [
       "[[0, 0], [12, 5], [0, 0], [0, 0], [0, 0], [0, 0], [11, 10], [1, 6], [0, 0]]"
      ]
     },
     "metadata": {},
     "execution_count": 15
    }
   ],
   "source": [
    "graph.warehouses"
   ]
  },
  {
   "cell_type": "code",
   "execution_count": 14,
   "metadata": {},
   "outputs": [
    {
     "output_type": "stream",
     "name": "stdout",
     "text": [
      "105\n"
     ]
    }
   ],
   "source": [
    "print(cur_cost)\n"
   ]
  },
  {
   "cell_type": "code",
   "execution_count": null,
   "metadata": {},
   "outputs": [],
   "source": []
  }
 ]
}