{
 "metadata": {
  "language_info": {
   "codemirror_mode": {
    "name": "ipython",
    "version": 3
   },
   "file_extension": ".py",
   "mimetype": "text/x-python",
   "name": "python",
   "nbconvert_exporter": "python",
   "pygments_lexer": "ipython3",
   "version": "3.6.6-final"
  },
  "orig_nbformat": 2,
  "kernelspec": {
   "name": "python3",
   "display_name": "Python 3.6.6 64-bit",
   "metadata": {
    "interpreter": {
     "hash": "2e5c6628eef985e7fd2fa2aad22c988c5b8aa1d2648cf9c51c543a2a2637c546"
    }
   }
  }
 },
 "nbformat": 4,
 "nbformat_minor": 2,
 "cells": [
  {
   "cell_type": "code",
   "execution_count": 1,
   "metadata": {},
   "outputs": [],
   "source": [
    "class Graph(object):\n",
    "    def __init__(self, size=21):\n",
    "        self.adj_matrix = []\n",
    "        self.adj_list = []\n",
    "        self.warehouses = []\n",
    "        self.orders = []\n",
    "        for i in range(size):\n",
    "            self.adj_matrix.append([0 for i in range(size)])\n",
    "            self.adj_list.append([])\n",
    "            self.warehouses.append([0, 0])\n",
    "            self.orders.append(0)\n",
    "        self.size = size\n",
    "\n",
    "    def add_edge(self, v1, v2):\n",
    "        self.adj_matrix[v1][v2] = 1\n",
    "        self.adj_matrix[v2][v1] = 1\n",
    "        self.adj_list[v1].append(v2)\n",
    "        self.adj_list[v2].append(v1)\n",
    "\n",
    "    def add_warehouse(self, item_count, cost, place):\n",
    "        self.warehouses[place][0] = item_count\n",
    "        self.warehouses[place][1] = cost\n",
    "\n",
    "    def add_order(self, item_count, place):\n",
    "        self.orders[place] += item_count\n",
    "\n",
    "    def deliver_items(self, c_target, w_source, item_count):\n",
    "        self.warehouses[w_source][0] -= item_count\n",
    "        self.orders[c_target] -= item_count"
   ]
  },
  {
   "cell_type": "code",
   "execution_count": 2,
   "metadata": {},
   "outputs": [],
   "source": [
    "# debugging - input from file\n",
    "input_file = open(r\"sample_input.txt\",\"r\")"
   ]
  },
  {
   "cell_type": "code",
   "execution_count": 3,
   "metadata": {},
   "outputs": [],
   "source": [
    "def get_line():\n",
    "    # return [int(num) for num in input().split()] # for input from terminal\n",
    "    return [int(num) for num in input_file.readline()[:-1].split()] # for input from file"
   ]
  },
  {
   "source": [
    "Get Inputs\n",
    "----------"
   ],
   "cell_type": "markdown",
   "metadata": {}
  },
  {
   "cell_type": "code",
   "execution_count": 4,
   "metadata": {},
   "outputs": [],
   "source": [
    "N, D, E = get_line()"
   ]
  },
  {
   "cell_type": "code",
   "execution_count": 5,
   "metadata": {},
   "outputs": [],
   "source": [
    "graph = Graph(N + 1)\n",
    "for e in range(E):\n",
    "    v1, v2 = get_line()\n",
    "    graph.add_edge(v1, v2)"
   ]
  },
  {
   "cell_type": "code",
   "execution_count": 6,
   "metadata": {},
   "outputs": [],
   "source": [
    "for d in range(D):\n",
    "    w, c, p = get_line()\n",
    "    graph.add_warehouse(w, c, p)"
   ]
  },
  {
   "cell_type": "code",
   "execution_count": 7,
   "metadata": {},
   "outputs": [],
   "source": [
    "M, = get_line()"
   ]
  },
  {
   "cell_type": "code",
   "execution_count": 8,
   "metadata": {},
   "outputs": [],
   "source": [
    "for m in range(M):\n",
    "    k, g = get_line()\n",
    "    graph.add_order(k, g)"
   ]
  },
  {
   "cell_type": "code",
   "execution_count": 9,
   "metadata": {},
   "outputs": [],
   "source": [
    "# debugging - input from file, close file\n",
    "input_file.close()"
   ]
  },
  {
   "source": [
    "Main Algo\n",
    "--------"
   ],
   "cell_type": "markdown",
   "metadata": {}
  },
  {
   "cell_type": "code",
   "execution_count": 10,
   "metadata": {},
   "outputs": [],
   "source": [
    "cur_cost = 0"
   ]
  },
  {
   "cell_type": "code",
   "execution_count": 11,
   "metadata": {},
   "outputs": [],
   "source": [
    "pending_orders = [(city, order) for city, order in enumerate(graph.orders[1:]) if order > 1]\n",
    "    "
   ]
  },
  {
   "cell_type": "code",
   "execution_count": 12,
   "metadata": {},
   "outputs": [
    {
     "output_type": "execute_result",
     "data": {
      "text/plain": [
       "[(3, 7), (4, 7)]"
      ]
     },
     "metadata": {},
     "execution_count": 12
    }
   ],
   "source": [
    "pending_orders"
   ]
  },
  {
   "cell_type": "code",
   "execution_count": 13,
   "metadata": {},
   "outputs": [
    {
     "output_type": "execute_result",
     "data": {
      "text/plain": [
       "[[],\n",
       " [2, 3],\n",
       " [1, 3],\n",
       " [1, 2, 4, 7],\n",
       " [3, 5, 6],\n",
       " [4, 6, 7, 8],\n",
       " [5, 4],\n",
       " [5, 3, 8],\n",
       " [5, 7]]"
      ]
     },
     "metadata": {},
     "execution_count": 13
    }
   ],
   "source": [
    "graph.adj_list"
   ]
  },
  {
   "cell_type": "code",
   "execution_count": 15,
   "metadata": {},
   "outputs": [
    {
     "output_type": "execute_result",
     "data": {
      "text/plain": [
       "[[0, 0], [12, 5], [0, 0], [0, 0], [0, 0], [0, 0], [11, 10], [1, 6], [0, 0]]"
      ]
     },
     "metadata": {},
     "execution_count": 15
    }
   ],
   "source": [
    "graph.warehouses"
   ]
  },
  {
   "cell_type": "code",
   "execution_count": 28,
   "metadata": {
    "tags": []
   },
   "outputs": [
    {
     "output_type": "stream",
     "name": "stdout",
     "text": [
      "0\n1\n0\n1\n1\n1\n"
     ]
    }
   ],
   "source": [
    "# recursively (greedy, bfs is better) find the cheapest way to accomplish the remaining orders\n",
    "for city, order in pending_orders:\n",
    "    remaining_items = order\n",
    "    queued_cities = [(city, 0)]\n",
    "\n",
    "    while (len(queued_cities) > 0):\n",
    "        cur_city, cur_dist = queued_cities.pop(0)\n",
    "        print(cur_dist)\n",
    "        local_items = graph.warehouses[cur_city][0]\n",
    "        local_cost = graph.warehouses[cur_city][1]\n",
    "        if (local_items > remaining_items):\n",
    "            graph.deliver_items(city, cur_city, remaining_items)\n",
    "            cur_cost += remaining_items * local_cost * cur_dist\n",
    "            remaining_items = 0\n",
    "        else:\n",
    "            graph.deliver_items(city, cur_city, local_items)\n",
    "            cur_cost += local_items * local_cost * cur_dist\n",
    "            remaining_items -= local_items\n",
    "        \n",
    "        if (remaining_items == 0):\n",
    "            break\n",
    "        \n",
    "        queued_cities = queued_cities + [(n_city, cur_dist + 1) for n_city in graph.adj_list[cur_city]]\n"
   ]
  },
  {
   "cell_type": "code",
   "execution_count": 14,
   "metadata": {},
   "outputs": [
    {
     "output_type": "stream",
     "name": "stdout",
     "text": [
      "105\n"
     ]
    }
   ],
   "source": [
    "print(cur_cost)\n"
   ]
  },
  {
   "cell_type": "code",
   "execution_count": null,
   "metadata": {},
   "outputs": [],
   "source": []
  }
 ]
}