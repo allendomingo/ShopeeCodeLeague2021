{
 "metadata": {
  "language_info": {
   "codemirror_mode": {
    "name": "ipython",
    "version": 3
   },
   "file_extension": ".py",
   "mimetype": "text/x-python",
   "name": "python",
   "nbconvert_exporter": "python",
   "pygments_lexer": "ipython3",
   "version": "3.6.6-final"
  },
  "orig_nbformat": 2,
  "kernelspec": {
   "name": "python3",
   "display_name": "Python 3.6.6 64-bit",
   "metadata": {
    "interpreter": {
     "hash": "2e5c6628eef985e7fd2fa2aad22c988c5b8aa1d2648cf9c51c543a2a2637c546"
    }
   }
  }
 },
 "nbformat": 4,
 "nbformat_minor": 2,
 "cells": [
  {
   "source": [
    "import pandas as pd\n",
    "import numpy as np\n",
    "from datetime import datetime"
   ],
   "cell_type": "code",
   "metadata": {},
   "execution_count": 1,
   "outputs": []
  },
  {
   "cell_type": "code",
   "execution_count": 2,
   "metadata": {},
   "outputs": [],
   "source": [
    "# disjoint set implementation\n",
    "class DisjointSet(object):\n",
    "    def __init__(self,size=1):\n",
    "        self.parent = [n for n in range(N)]    \n",
    "    \n",
    "    def find(self, x):\n",
    "        if (self.parent[x] != x):\n",
    "            self.parent[x] = self.find(self.parent[x])\n",
    "        return self.parent[x]\n",
    "    def union(self, x, y):\n",
    "        xset = self.find(x)\n",
    "        yset = self.find(y)\n",
    "\n",
    "        if xset == yset: \n",
    "            return\n",
    "        \n",
    "        self.parent[yset] = xset\n",
    "    def list_groups(self):\n",
    "        parent_set = set(self.parent)\n",
    "        grouped_sets = {x: set([x]) for x in parent_set}\n",
    "        for count, x in enumerate(self.parent):\n",
    "            grouped_sets[x].add(count)\n",
    "        return [sorted(x) for x in grouped_sets.values()]"
   ]
  },
  {
   "cell_type": "code",
   "execution_count": 3,
   "metadata": {},
   "outputs": [],
   "source": [
    "# for debugging\n",
    "pd.set_option('display.max_rows', 50)"
   ]
  },
  {
   "cell_type": "code",
   "execution_count": 4,
   "metadata": {},
   "outputs": [],
   "source": [
    "# read data from input\n",
    "df = pd.read_json(r'..\\\\Resources\\\\contact.json')\n",
    "N = len(df.index)"
   ]
  },
  {
   "cell_type": "code",
   "execution_count": 5,
   "metadata": {},
   "outputs": [],
   "source": [
    "# isolate into the 3 contact columns and drop empty values\n",
    "df_email_clean = df[['Id', 'Email']].replace('', np.nan).dropna()\n",
    "df_phone_clean = df[['Id', 'Phone']].replace('', np.nan).dropna()\n",
    "df_orderid_clean = df[['Id', 'OrderId']].replace('', np.nan).dropna()"
   ]
  },
  {
   "cell_type": "code",
   "execution_count": 6,
   "metadata": {},
   "outputs": [],
   "source": [
    "# group into adjacent sets per column\n",
    "email_sets = df_email_clean.groupby(by=['Email'])['Id'].apply(list).values\n",
    "phone_sets = df_phone_clean.groupby(by=['Phone'])['Id'].apply(list).values\n",
    "orderid_sets = df_orderid_clean.groupby(by=['OrderId'])['Id'].apply(list).values"
   ]
  },
  {
   "source": [
    "# join all the sets together\n",
    "all_sets = np.concatenate((email_sets, phone_sets, orderid_sets), axis=0)\n",
    "all_sets = np.array([s for s in all_sets if len(s) > 1])"
   ],
   "cell_type": "code",
   "metadata": {},
   "execution_count": 7,
   "outputs": []
  },
  {
   "cell_type": "code",
   "execution_count": 8,
   "metadata": {},
   "outputs": [],
   "source": [
    "# reduce/simplify the sets using a disjoint set data structure\n",
    "reduced_sets = DisjointSet(N)\n",
    "for cur_set in all_sets:\n",
    "    for c in cur_set:\n",
    "        reduced_sets.union(cur_set[0], c)"
   ]
  },
  {
   "cell_type": "code",
   "execution_count": 9,
   "metadata": {},
   "outputs": [],
   "source": [
    "# process sets into trace ticket id's and total contacts\n",
    "contacts_count_list = df['Contacts']\n",
    "adjacency_column = ['' for x in range(N)]\n",
    "for set_item in reduced_sets.list_groups():\n",
    "    trace_ticket_id = '-'.join([str(x) for x in set_item])\n",
    "    total_contacts = sum(set_item)\n",
    "    output_val = trace_ticket_id + ', ' + str(total_contacts)\n",
    "    for i in set_item:\n",
    "        adjacency_column[i] = output_val"
   ]
  },
  {
   "cell_type": "code",
   "execution_count": 13,
   "metadata": {},
   "outputs": [
    {
     "output_type": "stream",
     "name": "stdout",
     "text": [
      "        ticket_id   ticket_trace/contact\n0               0                   0, 0\n1               1  1-2458-476346, 478805\n2               2       2-159312, 159314\n3               3                   3, 3\n4               4                   4, 4\n...           ...                    ...\n499995     499995         499995, 499995\n499996     499996         499996, 499996\n499997     499997         499997, 499997\n499998     499998  121111-499998, 621109\n499999     499999         499999, 499999\n\n[500000 rows x 2 columns]\n"
     ]
    }
   ],
   "source": [
    "# parse into a dataframe and export to csv\n",
    "df_final = pd.DataFrame(enumerate(adjacency_column), columns=['ticket_id', 'ticket_trace/contact'])\n",
    "print(df_final)\n",
    "df_final.to_csv('outputs\\\\output' + datetime.today().strftime(\"%d-%m-%YT%H-%M-%S\") + '.csv', index=False)"
   ]
  }
 ]
}